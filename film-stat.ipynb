{
 "cells": [
  {
   "cell_type": "markdown",
   "metadata": {},
   "source": [
    "# film-genre-statistics\n",
    "Analyse de données de genre pour les films sortis entre 1995 et 2018. \n",
    "\n",
    "# Ensemble de données sur les Statistiques de Genre des Films (1995-2018)\n",
    "\n",
    "## Description\n",
    "Cet ensemble de données fournit des statistiques de genre pour les films sortis entre 1995 et 2018. Il offre des informations détaillées sur divers aspects des films, tels que les revenus bruts, les billets vendus et les chiffres ajustés à l'inflation. Les colonnes comprennent des données sur le genre, l'année de sortie, le nombre de films, les revenus bruts, les billets vendus, le brut ajusté à l'inflation, le meilleur film de chaque genre et année, ainsi que les revenus bruts associés.\n",
    "\n",
    "## Colonnes\n",
    "- Genre: Catégorie ou type de film (Catégoriel)\n",
    "- Année: Année de sortie des films (Numérique)\n",
    "- Films sortis: Nombre de films sortis dans un genre et une année spécifiques (Numérique)\n",
    "- Brut: Revenu brut total généré par les films dans un genre et une année spécifiques (Numérique)\n",
    "- Billets vendus: Nombre total de billets vendus pour des films d'un genre et d'une année spécifiques (Numérique)\n",
    "- Brut ajusté à l'inflation: Revenu brut ajusté à l'inflation, tenant compte de l'évolution de la valeur de l'argent au fil du temps (Numérique)\n",
    "- Meilleur film: Titre du film le plus rentable dans un genre et une année spécifiques (Texte)\n",
    "- Meilleur film brut (cette année): Revenus bruts générés par le film le plus rentable dans un genre et une année spécifiques (Numérique)\n",
    "- Meilleur film brut ajusté à l'inflation (cette année): Revenus bruts ajustés à l'inflation du film le plus rentable dans un genre et une année spécifiques (Numérique)\n",
    "\n",
    "## Utilisation\n",
    "Avant d'analyser les données, familiarisez-vous avec les différentes colonnes et leurs descriptions. Vous pouvez utiliser cet ensemble de données pour des analyses telles que la recherche de genres populaires, la mesure de la réussite financière des films, la compréhension des tendances cinématographiques, et bien plus encore.\n",
    "\n",
    "## Visualisation des données\n",
    "Pour une analyse plus approfondie, envisagez d'utiliser des techniques de visualisation de données, telles que des graphiques temporels, des graphiques de dispersion, et des matrices de corrélation.\n",
    "\n",
    "## Idées de recherche\n",
    "- Prédire la popularité et le succès des films dans différents genres.\n",
    "- Comparaison des performances des films au fil du temps.\n",
    "- Analyser l'impact de la popularité du genre sur les ventes de billets.\n",
    "\n",
    "## Source de données\n",
    "kaggle"
   ]
  },
  {
   "cell_type": "markdown",
   "metadata": {},
   "source": [
    "#Atelier :  Réussite au baccalauréat selon l’origine sociale Reviews EDA w/ Python 📈\n",
    "\n",
    "##Description des données:\n",
    "\n",
    "\n",
    "Ce jeu de données contient les résultats au baccalauréat par origine sociale et par type de baccalauréat. Le baccalauréat est un diplôme national qui sanctionne la fin des études secondaires générales, technologiques ou professionnelles.\n",
    "Chaque jeu de données regroupe l'ensemble des candidats au baccalauréat des sessions de juin et de septembre, quels que soient leur origine scolaire (candidats individuels compris) et le ministère de rattachement des établissements fréquentés (éducation nationale ou agriculture). L'ensemble des séries sont représentées (générales, technologiques rénovées, technologiques non rénovées (séries artistiques F11M et F11D) et professionnelles)."
   ]
  },
  {
   "cell_type": "markdown",
   "metadata": {},
   "source": [
    "##1. Importation et nettoyage des données\n",
    "\n",
    "-Charger l'ensemble des données depuis le fichier CSV fourni dans le lien Kaggle.\n",
    "-Examiner les données pour détecter et corriger les éventuelles valeurs manquantes ou incohérentes.\n",
    "-Vérifier les types de données de chaque colonne pour s'assurer qu'ils sont appropriés pour l'analyse."
   ]
  },
  {
   "cell_type": "code",
   "execution_count": null,
   "metadata": {},
   "outputs": [],
   "source": [
    "import pandas as pd\n",
    "\n",
    "films = pd.read_csv(\"D:/IA_COURS/Python/Data/films.csv\")\n",
    "\n",
    "# Vérifier les premières lignes pour comprendre la structure\n",
    "print(films.head())\n",
    "\n",
    "# Vérifier les types de données et les valeurs manquantes\n",
    "print(films.info())\n",
    "\n",
    "# Nettoyer les données si nécessaire (ex: valeurs manquantes, types incorrects)\n",
    "# Exemple: df['colonne'] = df['colonne'].fillna(valeur) ou df.dropna()"
   ]
  },
  {
   "cell_type": "markdown",
   "metadata": {},
   "source": [
    "##2.Analyse exploratoire des données (EDA)\n",
    "\n",
    "-Réaliser une statistique descriptive pour obtenir un aperçu général des données telles que la moyenne, la médiane, les quartiles, etc.\n",
    "-Examiner la distribution du nombre de films par genre et par année pour identifier les tendances.\n",
    "-Analyser les revenus bruts et les billets vendus par genre et par année pour évaluer la popularité et la rentabilité."
   ]
  },
  {
   "cell_type": "code",
   "execution_count": null,
   "metadata": {},
   "outputs": [],
   "source": [
    "# Statistiques descriptives\n",
    "print(films.describe())\n",
    "\n",
    "# Nombre de films par genre et par année\n",
    "print(films.groupby(['Genre', 'Année']).size())\n",
    "\n",
    "# Revenus bruts et billets vendus par genre et par année\n",
    "print(films.groupby(['Genre', 'Année'])[['Brut', 'Billets vendus']].sum())\n"
   ]
  },
  {
   "cell_type": "markdown",
   "metadata": {},
   "source": [
    "##3. Visualisation des données\n",
    "\n",
    "-Créer des graphiques temporels pour visualiser l'évolution du nombre de films, des revenus bruts, et des billets vendus par genre au fil des années.\n",
    "-Utiliser des graphiques de dispersion pour explorer la relation entre les revenus bruts et les billets vendus.\n",
    "-Concevoir des matrices de corrélation pour identifier les relations potentielles entre les différentes variables numériques.\n"
   ]
  },
  {
   "cell_type": "code",
   "execution_count": null,
   "metadata": {},
   "outputs": [],
   "source": [
    "import matplotlib.pyplot as plt\n",
    "\n",
    "# Evolution du nombre de films par année pour un genre spécifique\n",
    "df_genre_année = films.groupby(['Année', 'Genre']).size().unstack().fillna(0)\n",
    "df_genre_année.plot(kind='line', figsize=(10, 6))\n",
    "plt.title('Nombre de films par genre par année')\n",
    "plt.xlabel('Année')\n",
    "plt.ylabel('Nombre de films')\n",
    "plt.legend(title='Genre')\n",
    "plt.show()\n",
    "\n",
    "# Relation entre revenus bruts et billets vendus pour un genre spécifique\n",
    "plt.figure(figsize=(10, 6))\n",
    "plt.scatter(films['Brut'], films['Billets vendus'])\n",
    "plt.title('Relation entre revenus bruts et billets vendus')\n",
    "plt.xlabel('Revenus bruts')\n",
    "plt.ylabel('Billets vendus')\n",
    "plt.show()\n"
   ]
  },
  {
   "cell_type": "markdown",
   "metadata": {},
   "source": [
    "##4.Analyse approfondie\n",
    "\n",
    "-Déterminer les genres les plus populaires et les plus rentables en analysant les revenus bruts et les billets vendus.\n",
    "-Identifier les films les plus performants de chaque genre pour chaque année, en se concentrant sur ceux qui ont généré les revenus bruts les plus élevés et ajustés à l'inflation.\n",
    "-Explorer les tendances au fil du temps pour voir comment les préférences en matière de genre ont évolué."
   ]
  },
  {
   "cell_type": "code",
   "execution_count": null,
   "metadata": {},
   "outputs": [],
   "source": [
    "# Genre le plus populaire par année en termes de billets vendus\n",
    "df_populaire = films.groupby(['Année', 'Genre'])['Billets vendus'].sum().reset_index()\n",
    "genre_plus_populaire = df_populaire.loc[df_populaire.groupby('Année')['Billets vendus'].idxmax()]\n",
    "\n",
    "print(genre_plus_populaire)\n",
    "\n",
    "# Film le plus rentable par genre et par année\n",
    "df_meilleur_film = films.loc[films.groupby(['Genre', 'Année'])['Brut'].idxmax()]\n",
    "print(df_meilleur_film[['Année', 'Genre', 'Meilleur film', 'Brut']])\n"
   ]
  },
  {
   "cell_type": "markdown",
   "metadata": {},
   "source": [
    "##5. Conclusion et recommandations"
   ]
  }
 ],
 "metadata": {
  "kernelspec": {
   "display_name": "Python 3",
   "language": "python",
   "name": "python3"
  },
  "language_info": {
   "codemirror_mode": {
    "name": "ipython",
    "version": 3
   },
   "file_extension": ".py",
   "mimetype": "text/x-python",
   "name": "python",
   "nbconvert_exporter": "python",
   "pygments_lexer": "ipython3",
   "version": "3.11.0"
  }
 },
 "nbformat": 4,
 "nbformat_minor": 2
}
